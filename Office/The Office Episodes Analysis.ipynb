{
 "cells": [
  {
   "cell_type": "markdown",
   "id": "1e22e96e",
   "metadata": {},
   "source": [
    "Dataset for The Office Lines were obtained on Kaggle.\n",
    "\n",
    "Episode Names for The Office were scraped from its wikipedia page.\n",
    "\n",
    "IMDB scores were scraped from the IMDB website."
   ]
  },
  {
   "cell_type": "code",
   "execution_count": 2,
   "id": "f5d77867",
   "metadata": {},
   "outputs": [],
   "source": [
    "# Loading Packages\n",
    "import numpy as np\n",
    "import pandas as pd\n",
    "import matplotlib.pyplot as plt\n",
    "import seaborn as sns\n",
    "import requests\n",
    "from bs4 import BeautifulSoup\n",
    "import csv\n",
    "import re\n",
    "import math\n",
    "import collections"
   ]
  },
  {
   "cell_type": "markdown",
   "id": "68ecd7fb",
   "metadata": {},
   "source": [
    "### 1 Data Gathering"
   ]
  },
  {
   "cell_type": "code",
   "execution_count": 3,
   "id": "721761c2",
   "metadata": {},
   "outputs": [
    {
     "name": "stdout",
     "output_type": "stream",
     "text": [
      "   id  season  episode  scene  \\\n",
      "0   1       1        1      1   \n",
      "1   2       1        1      1   \n",
      "2   3       1        1      1   \n",
      "3   4       1        1      1   \n",
      "4   5       1        1      1   \n",
      "\n",
      "                                           line_text  speaker  deleted  \n",
      "0  All right Jim. Your quarterlies look very good...  Michael    False  \n",
      "1         Oh, I told you. I couldn't close it. So...      Jim    False  \n",
      "2  So you've come to the master for guidance? Is ...  Michael    False  \n",
      "3         Actually, you called me in here, but yeah.      Jim    False  \n",
      "4    All right. Well, let me show you how it's done.  Michael    False  \n",
      "(59909, 7)\n"
     ]
    }
   ],
   "source": [
    "# Importing script\n",
    "scripts = pd.read_csv(\"The_Office_lines.csv\", header = 0)\n",
    "print(scripts.head())\n",
    "print(scripts.shape)"
   ]
  },
  {
   "cell_type": "code",
   "execution_count": 80,
   "id": "d0d81058",
   "metadata": {},
   "outputs": [],
   "source": [
    "# Web Scraping The Office Episodes\n",
    "URL = \"https://en.wikipedia.org/wiki/List_of_The_Office_(American_TV_series)_episodes\"\n",
    "page = requests.get(URL)\n",
    "soup = BeautifulSoup(page.text, 'html.parser')\n",
    "\n",
    "table = soup.findAll('table',{\"class\":\"wikiepisodetable\"})[0:9]\n",
    "\n",
    "tr = []\n",
    "for season in table:\n",
    "    tr.append(season.findAll(['tr'])[1:])\n",
    "    \n",
    "csvFile = open(\"office_eps.csv\",'wt',newline='',encoding='utf-8')\n",
    "writer = csv.writer(csvFile)  \n",
    "try:   \n",
    "    for item in tr:\n",
    "        for cell in item:\n",
    "            th = cell.find_all('th')\n",
    "            th_data = [col.text.strip('\\n') for col in th]\n",
    "            td = cell.find_all('td')\n",
    "            row = [i.text.replace('\\n','') for i in td]\n",
    "            writer.writerow(th_data+row)      \n",
    "        \n",
    "finally:   \n",
    "    csvFile.close()"
   ]
  },
  {
   "cell_type": "code",
   "execution_count": 4,
   "id": "70be3664",
   "metadata": {},
   "outputs": [],
   "source": [
    "episodes = pd.read_csv(\"office_eps.csv\", header = None)"
   ]
  },
  {
   "cell_type": "code",
   "execution_count": 4,
   "id": "34807c29",
   "metadata": {},
   "outputs": [],
   "source": [
    "episodes = episodes.drop([6], axis=1)\n",
    "episodes.columns = [\"Overall No\", \"Season Ep No\", \"Title\", \"Director\", \"Writer\", \"Air Date\", \"Viewers\"]"
   ]
  },
  {
   "cell_type": "code",
   "execution_count": 5,
   "id": "525da333",
   "metadata": {},
   "outputs": [
    {
     "data": {
      "text/html": [
       "<div>\n",
       "<style scoped>\n",
       "    .dataframe tbody tr th:only-of-type {\n",
       "        vertical-align: middle;\n",
       "    }\n",
       "\n",
       "    .dataframe tbody tr th {\n",
       "        vertical-align: top;\n",
       "    }\n",
       "\n",
       "    .dataframe thead th {\n",
       "        text-align: right;\n",
       "    }\n",
       "</style>\n",
       "<table border=\"1\" class=\"dataframe\">\n",
       "  <thead>\n",
       "    <tr style=\"text-align: right;\">\n",
       "      <th></th>\n",
       "      <th>Overall No</th>\n",
       "      <th>Season Ep No</th>\n",
       "      <th>Title</th>\n",
       "      <th>Director</th>\n",
       "      <th>Writer</th>\n",
       "      <th>Air Date</th>\n",
       "      <th>Viewers</th>\n",
       "    </tr>\n",
       "  </thead>\n",
       "  <tbody>\n",
       "    <tr>\n",
       "      <th>0</th>\n",
       "      <td>1</td>\n",
       "      <td>1</td>\n",
       "      <td>\"Pilot\"</td>\n",
       "      <td>Ken Kwapis</td>\n",
       "      <td>Ricky Gervais &amp; Stephen Merchant and Greg Daniels</td>\n",
       "      <td>March 24, 2005 (2005-03-24)</td>\n",
       "      <td>11.20[16]</td>\n",
       "    </tr>\n",
       "    <tr>\n",
       "      <th>1</th>\n",
       "      <td>2</td>\n",
       "      <td>2</td>\n",
       "      <td>\"Diversity Day\"</td>\n",
       "      <td>Ken Kwapis</td>\n",
       "      <td>B. J. Novak</td>\n",
       "      <td>March 29, 2005 (2005-03-29)</td>\n",
       "      <td>6.00[17]</td>\n",
       "    </tr>\n",
       "    <tr>\n",
       "      <th>2</th>\n",
       "      <td>3</td>\n",
       "      <td>3</td>\n",
       "      <td>\"Health Care\"</td>\n",
       "      <td>Ken Whittingham</td>\n",
       "      <td>Paul Lieberstein</td>\n",
       "      <td>April 5, 2005 (2005-04-05)</td>\n",
       "      <td>5.80[18]</td>\n",
       "    </tr>\n",
       "    <tr>\n",
       "      <th>3</th>\n",
       "      <td>4</td>\n",
       "      <td>4</td>\n",
       "      <td>\"The Alliance\"</td>\n",
       "      <td>Bryan Gordon</td>\n",
       "      <td>Michael Schur</td>\n",
       "      <td>April 12, 2005 (2005-04-12)</td>\n",
       "      <td>5.40[19]</td>\n",
       "    </tr>\n",
       "    <tr>\n",
       "      <th>4</th>\n",
       "      <td>5</td>\n",
       "      <td>5</td>\n",
       "      <td>\"Basketball\"</td>\n",
       "      <td>Greg Daniels</td>\n",
       "      <td>Greg Daniels</td>\n",
       "      <td>April 19, 2005 (2005-04-19)</td>\n",
       "      <td>5.00[20]</td>\n",
       "    </tr>\n",
       "  </tbody>\n",
       "</table>\n",
       "</div>"
      ],
      "text/plain": [
       "   Overall No  Season Ep No            Title         Director  \\\n",
       "0           1             1          \"Pilot\"       Ken Kwapis   \n",
       "1           2             2  \"Diversity Day\"       Ken Kwapis   \n",
       "2           3             3    \"Health Care\"  Ken Whittingham   \n",
       "3           4             4   \"The Alliance\"     Bryan Gordon   \n",
       "4           5             5     \"Basketball\"     Greg Daniels   \n",
       "\n",
       "                                              Writer  \\\n",
       "0  Ricky Gervais & Stephen Merchant and Greg Daniels   \n",
       "1                                        B. J. Novak   \n",
       "2                                   Paul Lieberstein   \n",
       "3                                      Michael Schur   \n",
       "4                                       Greg Daniels   \n",
       "\n",
       "                      Air Date    Viewers  \n",
       "0  March 24, 2005 (2005-03-24)  11.20[16]  \n",
       "1  March 29, 2005 (2005-03-29)   6.00[17]  \n",
       "2   April 5, 2005 (2005-04-05)   5.80[18]  \n",
       "3  April 12, 2005 (2005-04-12)   5.40[19]  \n",
       "4  April 19, 2005 (2005-04-19)   5.00[20]  "
      ]
     },
     "execution_count": 5,
     "metadata": {},
     "output_type": "execute_result"
    }
   ],
   "source": [
    "episodes.head()"
   ]
  },
  {
   "cell_type": "code",
   "execution_count": 5,
   "id": "62c9404c",
   "metadata": {},
   "outputs": [],
   "source": [
    "# Extracting IMDB Episode Ratings\n",
    "\n",
    "data_set = []\n",
    "for i in range(1, 10):\n",
    "    URL = \"https://www.imdb.com/title/tt0386676/episodes?season=\" + str(i)\n",
    "    page = requests.get(URL)\n",
    "    soup = BeautifulSoup(page.text, 'html.parser')\n",
    "    \n",
    "    eps = soup.findAll(\"div\", {\"class\": \"list_item\"})\n",
    "    for episode in eps:\n",
    "        title = episode.findAll(\"a\", {\"itemprop\": \"name\"})\n",
    "        rating = episode.findAll(\"span\", {\"class\": \"ipl-rating-star__rating\"})\n",
    "        voters = episode.findAll(\"span\", {\"class\": \"ipl-rating-star__total-votes\"})\n",
    "        row_data = [title[0].text,rating[0].text,voters[0].text[1:-1].replace(',','')]\n",
    "        row_data = [r.replace('\\n','').strip() for r in row_data]\n",
    "        data_set.append(row_data)"
   ]
  },
  {
   "cell_type": "code",
   "execution_count": 6,
   "id": "047ca782",
   "metadata": {},
   "outputs": [
    {
     "data": {
      "text/html": [
       "<div>\n",
       "<style scoped>\n",
       "    .dataframe tbody tr th:only-of-type {\n",
       "        vertical-align: middle;\n",
       "    }\n",
       "\n",
       "    .dataframe tbody tr th {\n",
       "        vertical-align: top;\n",
       "    }\n",
       "\n",
       "    .dataframe thead th {\n",
       "        text-align: right;\n",
       "    }\n",
       "</style>\n",
       "<table border=\"1\" class=\"dataframe\">\n",
       "  <thead>\n",
       "    <tr style=\"text-align: right;\">\n",
       "      <th></th>\n",
       "      <th>Title</th>\n",
       "      <th>Rating</th>\n",
       "      <th>Voters</th>\n",
       "    </tr>\n",
       "  </thead>\n",
       "  <tbody>\n",
       "    <tr>\n",
       "      <th>0</th>\n",
       "      <td>Pilot</td>\n",
       "      <td>7.5</td>\n",
       "      <td>6184</td>\n",
       "    </tr>\n",
       "    <tr>\n",
       "      <th>1</th>\n",
       "      <td>Diversity Day</td>\n",
       "      <td>8.3</td>\n",
       "      <td>6062</td>\n",
       "    </tr>\n",
       "    <tr>\n",
       "      <th>2</th>\n",
       "      <td>Health Care</td>\n",
       "      <td>7.8</td>\n",
       "      <td>5078</td>\n",
       "    </tr>\n",
       "    <tr>\n",
       "      <th>3</th>\n",
       "      <td>The Alliance</td>\n",
       "      <td>8.0</td>\n",
       "      <td>4941</td>\n",
       "    </tr>\n",
       "    <tr>\n",
       "      <th>4</th>\n",
       "      <td>Basketball</td>\n",
       "      <td>8.4</td>\n",
       "      <td>5465</td>\n",
       "    </tr>\n",
       "  </tbody>\n",
       "</table>\n",
       "</div>"
      ],
      "text/plain": [
       "           Title Rating Voters\n",
       "0          Pilot    7.5   6184\n",
       "1  Diversity Day    8.3   6062\n",
       "2    Health Care    7.8   5078\n",
       "3   The Alliance    8.0   4941\n",
       "4     Basketball    8.4   5465"
      ]
     },
     "execution_count": 6,
     "metadata": {},
     "output_type": "execute_result"
    }
   ],
   "source": [
    "imdb = pd.DataFrame(data_set,columns=['Title','Rating','Voters'])\n",
    "imdb.head()"
   ]
  },
  {
   "cell_type": "code",
   "execution_count": 8,
   "id": "b1d7966c",
   "metadata": {},
   "outputs": [],
   "source": [
    "imdb.to_csv(\"imdb.csv\", index = False)"
   ]
  },
  {
   "cell_type": "code",
   "execution_count": 5,
   "id": "0c4578af",
   "metadata": {},
   "outputs": [],
   "source": [
    "imdb = pd.read_csv(\"imdb.csv\", header = 0)"
   ]
  },
  {
   "cell_type": "markdown",
   "id": "bd67fe51",
   "metadata": {},
   "source": [
    "### 2 Data Cleaning"
   ]
  },
  {
   "cell_type": "markdown",
   "id": "06894c17",
   "metadata": {},
   "source": [
    "#### Episodes DF"
   ]
  },
  {
   "cell_type": "code",
   "execution_count": 9,
   "id": "04d24505",
   "metadata": {},
   "outputs": [],
   "source": [
    "# Helper Function\n",
    "def adjust_ep(df_line):\n",
    "    if len(df_line['Overall No']) > 3:\n",
    "        return df_line['Season Ep No'][:int(len(df_line['Season Ep No'])/2)]\n",
    "    else:\n",
    "        return df_line['Season Ep No']"
   ]
  },
  {
   "cell_type": "code",
   "execution_count": 10,
   "id": "40db69fc",
   "metadata": {},
   "outputs": [],
   "source": [
    "# Address issue of double episodes\n",
    "episodes = episodes.astype({'Overall No': 'str', 'Season Ep No': 'str'})\n",
    "episodes['Season Ep No'] = episodes.apply(adjust_ep, axis=1)\n",
    "episodes['Overall No'] = episodes['Overall No'].apply(lambda x: x[:int(len(x)/2)] if len(x) > 3 else x)"
   ]
  },
  {
   "cell_type": "code",
   "execution_count": 11,
   "id": "9f79af9e",
   "metadata": {},
   "outputs": [],
   "source": [
    "# Clean vieweres column\n",
    "episodes['Viewers'] = episodes['Viewers'].apply(lambda x: re.search(r\"(\\d+.\\d+)(?=\\[)\", x).group(0))"
   ]
  },
  {
   "cell_type": "code",
   "execution_count": 12,
   "id": "2fd231e5",
   "metadata": {},
   "outputs": [],
   "source": [
    "# Clean Air Date Column\n",
    "episodes['Air Date'] = episodes['Air Date'].apply(lambda x: re.search(r\"(?!\\()(\\d+-\\d+-\\d+)\", x).group(0))"
   ]
  },
  {
   "cell_type": "code",
   "execution_count": 13,
   "id": "bef7d80c",
   "metadata": {},
   "outputs": [],
   "source": [
    "# Clean Title Column\n",
    "episodes['Title'] = episodes['Title'].apply(lambda x: x.replace('\"', '').replace('‡', '').replace('*', '').replace('†', ''))"
   ]
  },
  {
   "cell_type": "code",
   "execution_count": 14,
   "id": "26f3d544",
   "metadata": {},
   "outputs": [],
   "source": [
    "# Add Season Column\n",
    "Season = np.array([1])\n",
    "\n",
    "count = 1\n",
    "for i in range(1, 186):\n",
    "    if episodes.iloc[i,1] != '1':\n",
    "        Season = np.append(Season, count)\n",
    "    else:\n",
    "        count += 1\n",
    "        Season = np.append(Season, count)\n",
    "\n",
    "episodes['Season'] = Season"
   ]
  },
  {
   "cell_type": "markdown",
   "id": "d0cc58e5",
   "metadata": {},
   "source": [
    "#### Scripts DF"
   ]
  },
  {
   "cell_type": "code",
   "execution_count": 15,
   "id": "7bceced3",
   "metadata": {},
   "outputs": [],
   "source": [
    "# I filtered for the top 8 chracters by number of lines\n",
    "most_lines = collections.Counter(scripts.speaker).most_common()[0:8]\n",
    "most_lines_filter = []\n",
    "for item in most_lines:\n",
    "    most_lines_filter.append(item[0])\n",
    "scripts_filtered = scripts[scripts.speaker.isin(most_lines_filter)]\n",
    "scripts_filtered.speaker.unique()"
   ]
  },
  {
   "cell_type": "code",
   "execution_count": 23,
   "id": "5ce34b43",
   "metadata": {},
   "outputs": [],
   "source": [
    "# I filtered for lines which were actually spoken in the series and not deleted\n",
    "scripts_filtered = scripts_filtered.loc[scripts_filtered.deleted == False,]"
   ]
  },
  {
   "cell_type": "code",
   "execution_count": 24,
   "id": "25dcca12",
   "metadata": {},
   "outputs": [],
   "source": [
    "scripts_filtered.to_csv(\"script.csv\", index = False)"
   ]
  },
  {
   "cell_type": "markdown",
   "id": "f09a01a3",
   "metadata": {},
   "source": [
    "### Data Merging"
   ]
  },
  {
   "cell_type": "code",
   "execution_count": 18,
   "id": "35e20afe",
   "metadata": {},
   "outputs": [],
   "source": [
    "# Merge Episodes dataframe with imdb dataframe\n",
    "\n",
    "new_episodes = episodes.merge(imdb, on = 'Title', how = 'left')\n",
    "new_episodes = new_episodes.astype({'Rating': 'float', 'Voters': 'float'})"
   ]
  },
  {
   "cell_type": "code",
   "execution_count": 19,
   "id": "f3cf8e9f",
   "metadata": {},
   "outputs": [
    {
     "data": {
      "text/html": [
       "<div>\n",
       "<style scoped>\n",
       "    .dataframe tbody tr th:only-of-type {\n",
       "        vertical-align: middle;\n",
       "    }\n",
       "\n",
       "    .dataframe tbody tr th {\n",
       "        vertical-align: top;\n",
       "    }\n",
       "\n",
       "    .dataframe thead th {\n",
       "        text-align: right;\n",
       "    }\n",
       "</style>\n",
       "<table border=\"1\" class=\"dataframe\">\n",
       "  <thead>\n",
       "    <tr style=\"text-align: right;\">\n",
       "      <th></th>\n",
       "      <th>Overall No</th>\n",
       "      <th>Season Ep No</th>\n",
       "      <th>Title</th>\n",
       "      <th>Director</th>\n",
       "      <th>Writer</th>\n",
       "      <th>Air Date</th>\n",
       "      <th>Viewers</th>\n",
       "      <th>Season</th>\n",
       "      <th>Rating</th>\n",
       "      <th>Voters</th>\n",
       "    </tr>\n",
       "  </thead>\n",
       "  <tbody>\n",
       "    <tr>\n",
       "      <th>14</th>\n",
       "      <td>15</td>\n",
       "      <td>9</td>\n",
       "      <td>Email Surveillance</td>\n",
       "      <td>Paul Feig</td>\n",
       "      <td>Jennifer Celotta</td>\n",
       "      <td>2005-11-22</td>\n",
       "      <td>8.10</td>\n",
       "      <td>2</td>\n",
       "      <td>NaN</td>\n",
       "      <td>NaN</td>\n",
       "    </tr>\n",
       "    <tr>\n",
       "      <th>94</th>\n",
       "      <td>104</td>\n",
       "      <td>4</td>\n",
       "      <td>Niagara</td>\n",
       "      <td>Paul Feig</td>\n",
       "      <td>Greg Daniels &amp; Mindy Kaling</td>\n",
       "      <td>2009-10-08</td>\n",
       "      <td>9.42</td>\n",
       "      <td>6</td>\n",
       "      <td>NaN</td>\n",
       "      <td>NaN</td>\n",
       "    </tr>\n",
       "    <tr>\n",
       "      <th>105</th>\n",
       "      <td>116</td>\n",
       "      <td>16</td>\n",
       "      <td>The Manager and the Salesman</td>\n",
       "      <td>Marc Webb</td>\n",
       "      <td>Mindy Kaling</td>\n",
       "      <td>2010-02-11</td>\n",
       "      <td>7.40</td>\n",
       "      <td>6</td>\n",
       "      <td>NaN</td>\n",
       "      <td>NaN</td>\n",
       "    </tr>\n",
       "    <tr>\n",
       "      <th>106</th>\n",
       "      <td>117</td>\n",
       "      <td>17</td>\n",
       "      <td>The Delivery</td>\n",
       "      <td>Seth GordonHarold Ramis</td>\n",
       "      <td>Daniel ChunCharlie Grandy</td>\n",
       "      <td>2010-03-04</td>\n",
       "      <td>9.00</td>\n",
       "      <td>6</td>\n",
       "      <td>NaN</td>\n",
       "      <td>NaN</td>\n",
       "    </tr>\n",
       "  </tbody>\n",
       "</table>\n",
       "</div>"
      ],
      "text/plain": [
       "    Overall No Season Ep No                         Title  \\\n",
       "14          15            9            Email Surveillance   \n",
       "94         104            4                       Niagara   \n",
       "105        116           16  The Manager and the Salesman   \n",
       "106        117           17                  The Delivery   \n",
       "\n",
       "                    Director                       Writer    Air Date Viewers  \\\n",
       "14                 Paul Feig             Jennifer Celotta  2005-11-22    8.10   \n",
       "94                 Paul Feig  Greg Daniels & Mindy Kaling  2009-10-08    9.42   \n",
       "105                Marc Webb                 Mindy Kaling  2010-02-11    7.40   \n",
       "106  Seth GordonHarold Ramis    Daniel ChunCharlie Grandy  2010-03-04    9.00   \n",
       "\n",
       "     Season  Rating  Voters  \n",
       "14        2     NaN     NaN  \n",
       "94        6     NaN     NaN  \n",
       "105       6     NaN     NaN  \n",
       "106       6     NaN     NaN  "
      ]
     },
     "execution_count": 19,
     "metadata": {},
     "output_type": "execute_result"
    }
   ],
   "source": [
    "# Detecting episodes which failed to merge to due slight differences in titles\n",
    "new_episodes.loc[np.isnan(new_episodes.Rating),:]"
   ]
  },
  {
   "cell_type": "code",
   "execution_count": 20,
   "id": "c15d48b4",
   "metadata": {},
   "outputs": [],
   "source": [
    "# Correcting NaNs\n",
    "new_episodes.iloc[14, 8:10] = 8.4, 4227\n",
    "new_episodes.iloc[94, 8:10] = (9.4 + 9.5)/2, (5680 + 4433)/2\n",
    "new_episodes.iloc[105, 8:10] = 8.1, 2872\n",
    "new_episodes.iloc[106, 8:10] = (8.4 + 8.5)/2, (3052 + 3056)/2"
   ]
  },
  {
   "cell_type": "code",
   "execution_count": 21,
   "id": "e7abc389",
   "metadata": {},
   "outputs": [
    {
     "data": {
      "text/html": [
       "<div>\n",
       "<style scoped>\n",
       "    .dataframe tbody tr th:only-of-type {\n",
       "        vertical-align: middle;\n",
       "    }\n",
       "\n",
       "    .dataframe tbody tr th {\n",
       "        vertical-align: top;\n",
       "    }\n",
       "\n",
       "    .dataframe thead th {\n",
       "        text-align: right;\n",
       "    }\n",
       "</style>\n",
       "<table border=\"1\" class=\"dataframe\">\n",
       "  <thead>\n",
       "    <tr style=\"text-align: right;\">\n",
       "      <th></th>\n",
       "      <th>Overall No</th>\n",
       "      <th>Season Ep No</th>\n",
       "      <th>Title</th>\n",
       "      <th>Director</th>\n",
       "      <th>Writer</th>\n",
       "      <th>Air Date</th>\n",
       "      <th>Viewers</th>\n",
       "      <th>Season</th>\n",
       "      <th>Rating</th>\n",
       "      <th>Voters</th>\n",
       "    </tr>\n",
       "  </thead>\n",
       "  <tbody>\n",
       "  </tbody>\n",
       "</table>\n",
       "</div>"
      ],
      "text/plain": [
       "Empty DataFrame\n",
       "Columns: [Overall No, Season Ep No, Title, Director, Writer, Air Date, Viewers, Season, Rating, Voters]\n",
       "Index: []"
      ]
     },
     "execution_count": 21,
     "metadata": {},
     "output_type": "execute_result"
    }
   ],
   "source": [
    "new_episodes.loc[np.isnan(new_episodes.Rating),:]"
   ]
  },
  {
   "cell_type": "code",
   "execution_count": 22,
   "id": "49eeefd0",
   "metadata": {},
   "outputs": [],
   "source": [
    "new_episodes = new_episodes.astype({'Overall No': 'int', 'Season Ep No': 'int', 'Viewers': 'float'})"
   ]
  },
  {
   "cell_type": "code",
   "execution_count": 25,
   "id": "216c73e2",
   "metadata": {},
   "outputs": [],
   "source": [
    "new_episodes.to_csv(\"episodes.csv\", index = False)"
   ]
  },
  {
   "cell_type": "code",
   "execution_count": 7,
   "id": "43265bc5",
   "metadata": {},
   "outputs": [],
   "source": [
    "new_episodes = pd.read_csv(\"episodes.csv\", header = 0)"
   ]
  },
  {
   "cell_type": "code",
   "execution_count": 8,
   "id": "28f1d350",
   "metadata": {},
   "outputs": [
    {
     "data": {
      "text/html": [
       "<div>\n",
       "<style scoped>\n",
       "    .dataframe tbody tr th:only-of-type {\n",
       "        vertical-align: middle;\n",
       "    }\n",
       "\n",
       "    .dataframe tbody tr th {\n",
       "        vertical-align: top;\n",
       "    }\n",
       "\n",
       "    .dataframe thead th {\n",
       "        text-align: right;\n",
       "    }\n",
       "</style>\n",
       "<table border=\"1\" class=\"dataframe\">\n",
       "  <thead>\n",
       "    <tr style=\"text-align: right;\">\n",
       "      <th></th>\n",
       "      <th>Overall No</th>\n",
       "      <th>Season Ep No</th>\n",
       "      <th>Title</th>\n",
       "      <th>Director</th>\n",
       "      <th>Writer</th>\n",
       "      <th>Air Date</th>\n",
       "      <th>Viewers</th>\n",
       "      <th>Season</th>\n",
       "      <th>Rating</th>\n",
       "      <th>Voters</th>\n",
       "    </tr>\n",
       "  </thead>\n",
       "  <tbody>\n",
       "    <tr>\n",
       "      <th>0</th>\n",
       "      <td>1</td>\n",
       "      <td>1</td>\n",
       "      <td>Pilot</td>\n",
       "      <td>Ken Kwapis</td>\n",
       "      <td>Ricky Gervais &amp; Stephen Merchant and Greg Daniels</td>\n",
       "      <td>2005-03-24</td>\n",
       "      <td>11.2</td>\n",
       "      <td>1</td>\n",
       "      <td>7.5</td>\n",
       "      <td>6184.0</td>\n",
       "    </tr>\n",
       "    <tr>\n",
       "      <th>1</th>\n",
       "      <td>2</td>\n",
       "      <td>2</td>\n",
       "      <td>Diversity Day</td>\n",
       "      <td>Ken Kwapis</td>\n",
       "      <td>B. J. Novak</td>\n",
       "      <td>2005-03-29</td>\n",
       "      <td>6.0</td>\n",
       "      <td>1</td>\n",
       "      <td>8.3</td>\n",
       "      <td>6062.0</td>\n",
       "    </tr>\n",
       "    <tr>\n",
       "      <th>2</th>\n",
       "      <td>3</td>\n",
       "      <td>3</td>\n",
       "      <td>Health Care</td>\n",
       "      <td>Ken Whittingham</td>\n",
       "      <td>Paul Lieberstein</td>\n",
       "      <td>2005-04-05</td>\n",
       "      <td>5.8</td>\n",
       "      <td>1</td>\n",
       "      <td>7.8</td>\n",
       "      <td>5078.0</td>\n",
       "    </tr>\n",
       "    <tr>\n",
       "      <th>3</th>\n",
       "      <td>4</td>\n",
       "      <td>4</td>\n",
       "      <td>The Alliance</td>\n",
       "      <td>Bryan Gordon</td>\n",
       "      <td>Michael Schur</td>\n",
       "      <td>2005-04-12</td>\n",
       "      <td>5.4</td>\n",
       "      <td>1</td>\n",
       "      <td>8.0</td>\n",
       "      <td>4941.0</td>\n",
       "    </tr>\n",
       "    <tr>\n",
       "      <th>4</th>\n",
       "      <td>5</td>\n",
       "      <td>5</td>\n",
       "      <td>Basketball</td>\n",
       "      <td>Greg Daniels</td>\n",
       "      <td>Greg Daniels</td>\n",
       "      <td>2005-04-19</td>\n",
       "      <td>5.0</td>\n",
       "      <td>1</td>\n",
       "      <td>8.4</td>\n",
       "      <td>5465.0</td>\n",
       "    </tr>\n",
       "  </tbody>\n",
       "</table>\n",
       "</div>"
      ],
      "text/plain": [
       "   Overall No  Season Ep No          Title         Director  \\\n",
       "0           1             1          Pilot       Ken Kwapis   \n",
       "1           2             2  Diversity Day       Ken Kwapis   \n",
       "2           3             3    Health Care  Ken Whittingham   \n",
       "3           4             4   The Alliance     Bryan Gordon   \n",
       "4           5             5     Basketball     Greg Daniels   \n",
       "\n",
       "                                              Writer    Air Date  Viewers  \\\n",
       "0  Ricky Gervais & Stephen Merchant and Greg Daniels  2005-03-24     11.2   \n",
       "1                                        B. J. Novak  2005-03-29      6.0   \n",
       "2                                   Paul Lieberstein  2005-04-05      5.8   \n",
       "3                                      Michael Schur  2005-04-12      5.4   \n",
       "4                                       Greg Daniels  2005-04-19      5.0   \n",
       "\n",
       "   Season  Rating  Voters  \n",
       "0       1     7.5  6184.0  \n",
       "1       1     8.3  6062.0  \n",
       "2       1     7.8  5078.0  \n",
       "3       1     8.0  4941.0  \n",
       "4       1     8.4  5465.0  "
      ]
     },
     "execution_count": 8,
     "metadata": {},
     "output_type": "execute_result"
    }
   ],
   "source": [
    "new_episodes.head(5)"
   ]
  },
  {
   "cell_type": "markdown",
   "id": "ed19033e",
   "metadata": {},
   "source": [
    "### Exploratory Data Analysis"
   ]
  },
  {
   "cell_type": "code",
   "execution_count": 26,
   "id": "050c0264",
   "metadata": {},
   "outputs": [
    {
     "data": {
      "text/plain": [
       "<AxesSubplot:xlabel='Viewers'>"
      ]
     },
     "execution_count": 26,
     "metadata": {},
     "output_type": "execute_result"
    },
    {
     "data": {
      "image/png": "[encoded data removed]",
      "text/plain": [
       "<Figure size 432x288 with 1 Axes>"
      ]
     },
     "metadata": {
      "needs_background": "light"
     },
     "output_type": "display_data"
    }
   ],
   "source": [
    "sns.boxplot(x = new_episodes.Viewers, color = \"orange\")"
   ]
  },
  {
   "cell_type": "markdown",
   "id": "82e7455a",
   "metadata": {},
   "source": [
    "We observe and anomaly in one of the episodes with more than 22.5 million viewers"
   ]
  },
  {
   "cell_type": "code",
   "execution_count": 27,
   "id": "28caf562",
   "metadata": {},
   "outputs": [
    {
     "data": {
      "text/html": [
       "<div>\n",
       "<style scoped>\n",
       "    .dataframe tbody tr th:only-of-type {\n",
       "        vertical-align: middle;\n",
       "    }\n",
       "\n",
       "    .dataframe tbody tr th {\n",
       "        vertical-align: top;\n",
       "    }\n",
       "\n",
       "    .dataframe thead th {\n",
       "        text-align: right;\n",
       "    }\n",
       "</style>\n",
       "<table border=\"1\" class=\"dataframe\">\n",
       "  <thead>\n",
       "    <tr style=\"text-align: right;\">\n",
       "      <th></th>\n",
       "      <th>Overall No</th>\n",
       "      <th>Season Ep No</th>\n",
       "      <th>Title</th>\n",
       "      <th>Director</th>\n",
       "      <th>Writer</th>\n",
       "      <th>Air Date</th>\n",
       "      <th>Viewers</th>\n",
       "      <th>Season</th>\n",
       "      <th>Rating</th>\n",
       "      <th>Voters</th>\n",
       "    </tr>\n",
       "  </thead>\n",
       "  <tbody>\n",
       "    <tr>\n",
       "      <th>77</th>\n",
       "      <td>86</td>\n",
       "      <td>14</td>\n",
       "      <td>Stress Relief</td>\n",
       "      <td>Jeffrey Blitz</td>\n",
       "      <td>Paul Lieberstein</td>\n",
       "      <td>2009-02-01</td>\n",
       "      <td>22.91</td>\n",
       "      <td>5</td>\n",
       "      <td>9.7</td>\n",
       "      <td>10506.0</td>\n",
       "    </tr>\n",
       "  </tbody>\n",
       "</table>\n",
       "</div>"
      ],
      "text/plain": [
       "    Overall No  Season Ep No          Title       Director            Writer  \\\n",
       "77          86            14  Stress Relief  Jeffrey Blitz  Paul Lieberstein   \n",
       "\n",
       "      Air Date  Viewers  Season  Rating   Voters  \n",
       "77  2009-02-01    22.91       5     9.7  10506.0  "
      ]
     },
     "execution_count": 27,
     "metadata": {},
     "output_type": "execute_result"
    }
   ],
   "source": [
    "new_episodes.loc[new_episodes.Viewers > 22,:]"
   ]
  },
  {
   "cell_type": "markdown",
   "id": "0ee7e9d6",
   "metadata": {},
   "source": [
    "Stress Relief is the episode with the anomaly. Research online points to the fact that the episode was broadcasted after  Super Bowl XLIII, which was the most watched Super Bowl in history at that time."
   ]
  },
  {
   "cell_type": "code",
   "execution_count": 28,
   "id": "2425c18d",
   "metadata": {},
   "outputs": [
    {
     "data": {
      "text/plain": [
       "<AxesSubplot:xlabel='Rating'>"
      ]
     },
     "execution_count": 28,
     "metadata": {},
     "output_type": "execute_result"
    },
    {
     "data": {
      "image/png": "[encoded data removed]",
      "text/plain": [
       "<Figure size 432x288 with 1 Axes>"
      ]
     },
     "metadata": {
      "needs_background": "light"
     },
     "output_type": "display_data"
    }
   ],
   "source": [
    "sns.boxplot(x = new_episodes.Rating)"
   ]
  },
  {
   "cell_type": "markdown",
   "id": "fa420358",
   "metadata": {},
   "source": [
    "In general, the Office episodes are highly rater by viewers, having a median of around 8.3 and with more than 25% of the episodes being rated more than 8.5 out of 10."
   ]
  },
  {
   "cell_type": "code",
   "execution_count": 30,
   "id": "be93a2a4",
   "metadata": {},
   "outputs": [
    {
     "data": {
      "text/plain": [
       "<AxesSubplot:xlabel='Overall No', ylabel='Viewers'>"
      ]
     },
     "execution_count": 30,
     "metadata": {},
     "output_type": "execute_result"
    },
    {
     "data": {
      "image/png": "[encoded data removed]",
      "text/plain": [
       "<Figure size 432x288 with 1 Axes>"
      ]
     },
     "metadata": {
      "needs_background": "light"
     },
     "output_type": "display_data"
    }
   ],
   "source": [
    "sns.lineplot(x = \"Overall No\", y = \"Viewers\",data = new_episodes.loc[new_episodes.Viewers < 22,:])\n",
    "sns.lineplot(x = \"Overall No\", y = \"Rating\",data = new_episodes.loc[new_episodes.Viewers < 22,:], color = \"pink\")"
   ]
  },
  {
   "cell_type": "code",
   "execution_count": 29,
   "id": "2a978efe",
   "metadata": {},
   "outputs": [
    {
     "data": {
      "text/plain": [
       "<AxesSubplot:xlabel='Season', ylabel='Viewers'>"
      ]
     },
     "execution_count": 29,
     "metadata": {},
     "output_type": "execute_result"
    },
    {
     "data": {
      "image/png": "[encoded data removed]",
      "text/plain": [
       "<Figure size 432x288 with 1 Axes>"
      ]
     },
     "metadata": {
      "needs_background": "light"
     },
     "output_type": "display_data"
    }
   ],
   "source": [
    "sns.lineplot(x = \"Season\", y = \"Viewers\",data = new_episodes.loc[new_episodes.Viewers < 22,:])\n",
    "sns.lineplot(x = \"Season\", y = \"Rating\",data = new_episodes.loc[new_episodes.Viewers < 22,:], color = \"pink\")"
   ]
  },
  {
   "cell_type": "markdown",
   "id": "6daaa2cc",
   "metadata": {},
   "source": [
    "For my initial analysis, I did not take into account the episode with the viewership anomaly. My plot suggests that ratings for the show generally remained constant. However, for viewership, I realised that there is a sudden decrease in viewers for the last 50 episodes. Furthermore, when compared across seasons, we see that there was increased viewership since the pilot season, and then there was the slight drop from season 4 to 7, before the sudden drop in the last 3 seasons."
   ]
  },
  {
   "cell_type": "code",
   "execution_count": 121,
   "id": "97cb9677",
   "metadata": {},
   "outputs": [
    {
     "data": {
      "text/plain": [
       "<AxesSubplot:xlabel='speaker', ylabel='count'>"
      ]
     },
     "execution_count": 121,
     "metadata": {},
     "output_type": "execute_result"
    },
    {
     "data": {
      "image/png": "[encoded data removed]",
      "text/plain": [
       "<Figure size 432x288 with 1 Axes>"
      ]
     },
     "metadata": {
      "needs_background": "light"
     },
     "output_type": "display_data"
    }
   ],
   "source": [
    "# Number of lines of top \n",
    "sns.countplot(x = \"speaker\", data = scripts_filtered)"
   ]
  },
  {
   "cell_type": "code",
   "execution_count": 92,
   "id": "ab3320fd",
   "metadata": {},
   "outputs": [
    {
     "data": {
      "text/plain": [
       "<matplotlib.legend.Legend at 0x221e868ffa0>"
      ]
     },
     "execution_count": 92,
     "metadata": {},
     "output_type": "execute_result"
    },
    {
     "data": {
      "image/png": "[encoded data removed]",
      "text/plain": [
       "<Figure size 432x288 with 1 Axes>"
      ]
     },
     "metadata": {
      "needs_background": "light"
     },
     "output_type": "display_data"
    }
   ],
   "source": [
    "line_number = scripts_filtered.groupby(['season', 'speaker']).agg(['count']).line_text.unstack()\n",
    "line_number = line_number.fillna(0)\n",
    "names = [\"Andy\", \"Angela\", \"Dwight\", \"Jim\", \"Kevin\", \"Michael\", \"Oscar\", \"Pam\"]\n",
    "\n",
    "plt.plot(line_number)\n",
    "plt.legend(names)"
   ]
  },
  {
   "cell_type": "markdown",
   "id": "ee0b93d3",
   "metadata": {},
   "source": [
    "We see that Michael no longer appears in season 8 and 9, and the fall in viewership could be attributed to that."
   ]
  },
  {
   "cell_type": "markdown",
   "id": "509139da",
   "metadata": {},
   "source": [
    "### Analysis of Michael Scott's Influence on the Show"
   ]
  },
  {
   "cell_type": "markdown",
   "id": "e3968f16",
   "metadata": {},
   "source": [
    "#### Ratings Analysis"
   ]
  },
  {
   "cell_type": "code",
   "execution_count": 11,
   "id": "13b3e3ae",
   "metadata": {},
   "outputs": [
    {
     "data": {
      "text/html": [
       "<div>\n",
       "<style scoped>\n",
       "    .dataframe tbody tr th:only-of-type {\n",
       "        vertical-align: middle;\n",
       "    }\n",
       "\n",
       "    .dataframe tbody tr th {\n",
       "        vertical-align: top;\n",
       "    }\n",
       "\n",
       "    .dataframe thead th {\n",
       "        text-align: right;\n",
       "    }\n",
       "</style>\n",
       "<table border=\"1\" class=\"dataframe\">\n",
       "  <thead>\n",
       "    <tr style=\"text-align: right;\">\n",
       "      <th></th>\n",
       "      <th>Overall No</th>\n",
       "      <th>Season Ep No</th>\n",
       "      <th>Title</th>\n",
       "      <th>Director</th>\n",
       "      <th>Writer</th>\n",
       "      <th>Air Date</th>\n",
       "      <th>Viewers</th>\n",
       "      <th>Season</th>\n",
       "      <th>Rating</th>\n",
       "      <th>Voters</th>\n",
       "    </tr>\n",
       "  </thead>\n",
       "  <tbody>\n",
       "    <tr>\n",
       "      <th>135</th>\n",
       "      <td>148</td>\n",
       "      <td>22</td>\n",
       "      <td>Goodbye, Michael</td>\n",
       "      <td>Paul Feig</td>\n",
       "      <td>Greg Daniels</td>\n",
       "      <td>2011-04-28</td>\n",
       "      <td>8.42</td>\n",
       "      <td>7</td>\n",
       "      <td>9.8</td>\n",
       "      <td>10717.0</td>\n",
       "    </tr>\n",
       "  </tbody>\n",
       "</table>\n",
       "</div>"
      ],
      "text/plain": [
       "     Overall No  Season Ep No             Title   Director        Writer  \\\n",
       "135         148            22  Goodbye, Michael  Paul Feig  Greg Daniels   \n",
       "\n",
       "       Air Date  Viewers  Season  Rating   Voters  \n",
       "135  2011-04-28     8.42       7     9.8  10717.0  "
      ]
     },
     "execution_count": 11,
     "metadata": {},
     "output_type": "execute_result"
    }
   ],
   "source": [
    "new_episodes.loc[new_episodes.Title == \"Goodbye, Michael\",:]"
   ]
  },
  {
   "cell_type": "code",
   "execution_count": 16,
   "id": "24124aa9",
   "metadata": {},
   "outputs": [],
   "source": [
    "new_episodes[\"michael\"] = new_episodes[\"Overall No\"].apply(lambda x: False if x > 148 else True)"
   ]
  },
  {
   "cell_type": "code",
   "execution_count": 18,
   "id": "29011360",
   "metadata": {},
   "outputs": [
    {
     "data": {
      "text/plain": [
       "<AxesSubplot:xlabel='michael', ylabel='Rating'>"
      ]
     },
     "execution_count": 18,
     "metadata": {},
     "output_type": "execute_result"
    },
    {
     "data": {
      "image/png": "[encoded data removed]",
      "text/plain": [
       "<Figure size 432x288 with 1 Axes>"
      ]
     },
     "metadata": {
      "needs_background": "light"
     },
     "output_type": "display_data"
    }
   ],
   "source": [
    "sns.boxplot(x = new_episodes.michael, y = new_episodes.Rating)"
   ]
  },
  {
   "cell_type": "code",
   "execution_count": 37,
   "id": "1a570f7a",
   "metadata": {},
   "outputs": [
    {
     "data": {
      "text/plain": [
       "<AxesSubplot:xlabel='Rating', ylabel='Count'>"
      ]
     },
     "execution_count": 37,
     "metadata": {},
     "output_type": "execute_result"
    },
    {
     "data": {
      "image/png": "[encoded data removed]",
      "text/plain": [
       "<Figure size 432x288 with 1 Axes>"
      ]
     },
     "metadata": {
      "needs_background": "light"
     },
     "output_type": "display_data"
    }
   ],
   "source": [
    "sns.histplot(x = \"Rating\", hue = \"michael\", data = new_episodes, kde = True)"
   ]
  },
  {
   "cell_type": "markdown",
   "id": "882a7ede",
   "metadata": {},
   "source": [
    "From the boxplots, we observe that there maybe be higher ratings in episodes with Michael Scott."
   ]
  },
  {
   "cell_type": "code",
   "execution_count": 23,
   "id": "399e9f5d",
   "metadata": {},
   "outputs": [],
   "source": [
    "# Statistical Analysis\n",
    "from scipy import stats"
   ]
  },
  {
   "cell_type": "code",
   "execution_count": 38,
   "id": "ac647ac1",
   "metadata": {},
   "outputs": [
    {
     "data": {
      "text/plain": [
       "Ttest_indResult(statistic=6.324573818965778, pvalue=8.574180812395787e-09)"
      ]
     },
     "execution_count": 38,
     "metadata": {},
     "output_type": "execute_result"
    }
   ],
   "source": [
    "michael_ratings = np.array(new_episodes.loc[new_episodes.michael == True, \"Rating\"])\n",
    "no_michael_ratings = np.array(new_episodes.loc[new_episodes.michael == False, \"Rating\"])\n",
    "\n",
    "stats.ttest_ind(michael_ratings, no_michael_ratings, equal_var = False, alternative = 'greater')"
   ]
  },
  {
   "cell_type": "markdown",
   "id": "f52579aa",
   "metadata": {},
   "source": [
    "The null hypothesis is that there are no significant differences in ratings of episodes with Michael and without Michael.\n",
    "\n",
    "The alternative hypothesis is that ratings of episodes with Michael is greater than those without Michael.\n",
    "\n",
    "Our 2 sample t-test result has a p-value of 8.574180812395787e-09, which is less than selected siginificant level of 0.05. Hence, the null hypothesis is rejected. There is enough evidence to show that ratings of episodes with Michael is greater than those without Michael."
   ]
  },
  {
   "cell_type": "markdown",
   "id": "243803b7",
   "metadata": {},
   "source": [
    "#### Viewership Analysis\n",
    "\n",
    "We will remove the anomaly, which is the episode with 22.5 million viewers for this analysis>"
   ]
  },
  {
   "cell_type": "code",
   "execution_count": 41,
   "id": "562aa926",
   "metadata": {},
   "outputs": [
    {
     "data": {
      "text/plain": [
       "<AxesSubplot:xlabel='michael', ylabel='Viewers'>"
      ]
     },
     "execution_count": 41,
     "metadata": {},
     "output_type": "execute_result"
    },
    {
     "data": {
      "image/png": "[encoded data removed]",
      "text/plain": [
       "<Figure size 432x288 with 1 Axes>"
      ]
     },
     "metadata": {
      "needs_background": "light"
     },
     "output_type": "display_data"
    }
   ],
   "source": [
    "sns.boxplot(x = new_episodes.michael, y = new_episodes.loc[new_episodes.Viewers < 22,:].Viewers)"
   ]
  },
  {
   "cell_type": "code",
   "execution_count": 42,
   "id": "d32af7cf",
   "metadata": {},
   "outputs": [
    {
     "data": {
      "text/plain": [
       "<AxesSubplot:xlabel='Viewers', ylabel='Count'>"
      ]
     },
     "execution_count": 42,
     "metadata": {},
     "output_type": "execute_result"
    },
    {
     "data": {
      "image/png": "[encoded data removed]",
      "text/plain": [
       "<Figure size 432x288 with 1 Axes>"
      ]
     },
     "metadata": {
      "needs_background": "light"
     },
     "output_type": "display_data"
    }
   ],
   "source": [
    "sns.histplot(x = \"Viewers\", hue = \"michael\", data = new_episodes.loc[new_episodes.Viewers < 22,:], kde = True)"
   ]
  },
  {
   "cell_type": "code",
   "execution_count": 43,
   "id": "e3be8cb8",
   "metadata": {},
   "outputs": [
    {
     "data": {
      "text/plain": [
       "Ttest_indResult(statistic=17.77127718570523, pvalue=3.890620846357668e-31)"
      ]
     },
     "execution_count": 43,
     "metadata": {},
     "output_type": "execute_result"
    }
   ],
   "source": [
    "michael_viewers = np.array(new_episodes.loc[(new_episodes.michael == True) & (new_episodes.Viewers < 22), \"Viewers\"])\n",
    "no_michael_viewers = np.array(new_episodes.loc[(new_episodes.michael == False) & (new_episodes.Viewers < 22), \"Viewers\"])\n",
    "\n",
    "stats.ttest_ind(michael_viewers, no_michael_viewers, equal_var = False, alternative = 'greater')"
   ]
  },
  {
   "cell_type": "markdown",
   "id": "5dfbd7d8",
   "metadata": {},
   "source": [
    "The null hypothesis is that there are no significant differences in number of viewers of episodes with Michael and without Michael.\n",
    "\n",
    "The alternative hypothesis is that number of viewers of episodes with Michael is greater than those without Michael.\n",
    "\n",
    "Our 2 sample t-test result has a p-value of 3.890620846357668e-31, which is less than selected siginificant level of 0.05. Hence, the null hypothesis is rejected. There is enough evidence to show that number of viewers of episodes with Michael is greater than those without Michael."
   ]
  },
  {
   "cell_type": "markdown",
   "id": "dfef3a68",
   "metadata": {},
   "source": [
    "#### Conclusion\n",
    "\n",
    "Hence, based on my data visualizations and statistical analysis, the drop in rating and viewers in the last two seasons can be attributed to Steve Carrell's character Michael Scott leaving the show."
   ]
  },
  {
   "cell_type": "markdown",
   "id": "b681a84b",
   "metadata": {},
   "source": [
    "### Flesch Reading Score Analysis"
   ]
  },
  {
   "cell_type": "markdown",
   "id": "14058a2e",
   "metadata": {},
   "source": [
    "In Progress"
   ]
  }
 ],
 "metadata": {
  "kernelspec": {
   "display_name": "Python 3",
   "language": "python",
   "name": "python3"
  },
  "language_info": {
   "codemirror_mode": {
    "name": "ipython",
    "version": 3
   },
   "file_extension": ".py",
   "mimetype": "text/x-python",
   "name": "python",
   "nbconvert_exporter": "python",
   "pygments_lexer": "ipython3",
   "version": "3.8.8"
  }
 },
 "nbformat": 4,
 "nbformat_minor": 5
}
